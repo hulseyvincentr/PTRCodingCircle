{
 "cells": [
  {
   "cell_type": "code",
   "execution_count": 4,
   "metadata": {},
   "outputs": [
    {
     "name": "stdout",
     "output_type": "stream",
     "text": [
      "Please input an integer:\n"
     ]
    },
    {
     "name": "stdin",
     "output_type": "stream",
     "text": [
      " 0\n"
     ]
    },
    {
     "name": "stdout",
     "output_type": "stream",
     "text": [
      "The input is 0; it is neither odd nor even.\n"
     ]
    }
   ],
   "source": [
    "#Section 8 notes\n",
    "\n",
    "#if else elif statements:\n",
    "\n",
    "#determine if an input is odd or even:\n",
    "print(\"Please input an integer:\")\n",
    "inputInt = int(input())\n",
    "inputMod2 = inputInt%2\n",
    "\n",
    "\n",
    "if inputInt == 0:\n",
    "    print(\"The input is 0; it is neither odd nor even.\")\n",
    "elif inputMod2 == 0:\n",
    "    print(\"The input is even.\")\n",
    "else:\n",
    "    print(\"The input is odd.\")"
   ]
  },
  {
   "cell_type": "code",
   "execution_count": 6,
   "metadata": {},
   "outputs": [
    {
     "name": "stdout",
     "output_type": "stream",
     "text": [
      "1\n",
      "2\n",
      "3\n",
      "4\n",
      "5\n",
      "6\n",
      "7\n",
      "8\n",
      "9\n",
      "10\n",
      "11\n",
      "12\n",
      "13\n",
      "14\n",
      "15\n",
      "16\n",
      "17\n",
      "18\n",
      "19\n",
      "20\n"
     ]
    }
   ],
   "source": [
    "#While syntax: display numbers 1 to 20\n",
    "x = 1\n",
    "while (x<=20):\n",
    "    print(x)\n",
    "    x = x+1\n",
    "    #or x+=1 will add 1 to x's current value,\n",
    "    # this is just a style thing for me"
   ]
  },
  {
   "cell_type": "code",
   "execution_count": 13,
   "metadata": {},
   "outputs": [
    {
     "name": "stdout",
     "output_type": "stream",
     "text": [
      "Please input the minimum number:\n"
     ]
    },
    {
     "name": "stdin",
     "output_type": "stream",
     "text": [
      " 2\n"
     ]
    },
    {
     "name": "stdout",
     "output_type": "stream",
     "text": [
      "Please input a maximum number:\n"
     ]
    },
    {
     "name": "stdin",
     "output_type": "stream",
     "text": [
      " 10\n"
     ]
    },
    {
     "name": "stdout",
     "output_type": "stream",
     "text": [
      "Odd numbers between  2  and  10 :\n",
      "3\n",
      "5\n",
      "7\n",
      "9\n"
     ]
    }
   ],
   "source": [
    "#Have the user input 2 numbers, then display all odd numbers between\n",
    "#those two numbers.\n",
    "print(\"Please input the minimum number:\")\n",
    "minNum = int(input())\n",
    "print(\"Please input a maximum number:\")\n",
    "maxNum = int(input())\n",
    "\n",
    "loopCounter = minNum\n",
    "loopMod2 = loopCounter%2\n",
    "\n",
    "if loopMod2 ==0:\n",
    "    loopCounter = loopCounter+1\n",
    "\n",
    "print(\"Odd numbers between \", minNum, \" and \", maxNum, \":\")\n",
    "\n",
    "while loopCounter <= maxNum:\n",
    "    print(loopCounter)\n",
    "    loopCounter = loopCounter+2\n"
   ]
  },
  {
   "cell_type": "code",
   "execution_count": 17,
   "metadata": {},
   "outputs": [
    {
     "name": "stdout",
     "output_type": "stream",
     "text": [
      "50\n",
      "52\n",
      "54\n",
      "56\n",
      "58\n",
      "60\n",
      "62\n",
      "64\n",
      "66\n",
      "68\n",
      "70\n"
     ]
    }
   ],
   "source": [
    "#for loops: Display even numbers from 50 to 70\n",
    "for number in range(50, 71, 2): #2 is the step value.\n",
    "    print(number)"
   ]
  },
  {
   "cell_type": "code",
   "execution_count": 22,
   "metadata": {},
   "outputs": [
    {
     "name": "stdout",
     "output_type": "stream",
     "text": [
      "The product of the numbers is:  120\n"
     ]
    }
   ],
   "source": [
    "#Make a list of numbers and calculate the product of all the numbers\n",
    "numList = [1, 2, 3, 4, 5]\n",
    "\n",
    "product = 1\n",
    "for i in numList:\n",
    "    product = product*i\n",
    "\n",
    "print('The product of the numbers is: ', product)"
   ]
  },
  {
   "cell_type": "code",
   "execution_count": 26,
   "metadata": {},
   "outputs": [
    {
     "name": "stdout",
     "output_type": "stream",
     "text": [
      "Please enter an integer: \n"
     ]
    },
    {
     "name": "stdin",
     "output_type": "stream",
     "text": [
      " 3\n"
     ]
    },
    {
     "name": "stdout",
     "output_type": "stream",
     "text": [
      "The multiplication table for  3  is:\n",
      "1 x 3 = 3\n",
      "2 x 3 = 6\n",
      "3 x 3 = 9\n",
      "4 x 3 = 12\n",
      "5 x 3 = 15\n",
      "6 x 3 = 18\n",
      "7 x 3 = 21\n",
      "8 x 3 = 24\n",
      "9 x 3 = 27\n",
      "10 x 3 = 30\n"
     ]
    }
   ],
   "source": [
    "#ask the user to enter a number, and the program will display the\n",
    "#multiplication table of that number up to 10.\n",
    "\n",
    "print(\"Please enter an integer: \")\n",
    "inputNum = int(input())\n",
    "\n",
    "print(\"The multiplication table for \", inputNum, \" is:\")\n",
    "for i in range(1, 11): \n",
    "    print(i, 'x' , inputNum, '=', i*inputNum)"
   ]
  },
  {
   "cell_type": "code",
   "execution_count": 6,
   "metadata": {},
   "outputs": [
    {
     "name": "stdout",
     "output_type": "stream",
     "text": [
      "3\n"
     ]
    }
   ],
   "source": [
    "#\"Breaking\" a loop\n",
    "list1 = [3, 5, 6, 9, 12]\n",
    "for i in list1:\n",
    "    if (i==5):\n",
    "        break\n",
    "    print(i)\n",
    "    \n",
    "#it stops the for loop as soon as we reach 5 in list1"
   ]
  },
  {
   "cell_type": "code",
   "execution_count": 10,
   "metadata": {},
   "outputs": [
    {
     "name": "stdout",
     "output_type": "stream",
     "text": [
      "1\n",
      "2\n",
      "4\n",
      "5\n",
      "7\n",
      "8\n",
      "10\n",
      "11\n",
      "13\n",
      "14\n",
      "16\n",
      "17\n",
      "19\n",
      "20\n"
     ]
    }
   ],
   "source": [
    "#continue statement\n",
    "#print numbers 1-20, skip any multiple of 3\n",
    "x = 0\n",
    "while x<20:\n",
    "    x = x+1\n",
    "    if x%3 == 0:\n",
    "        continue #skip the print statement if x is a multiple of 3\n",
    "    print(x)"
   ]
  },
  {
   "cell_type": "code",
   "execution_count": 12,
   "metadata": {},
   "outputs": [
    {
     "name": "stdout",
     "output_type": "stream",
     "text": [
      "Please enter a number greater than 10: \n"
     ]
    },
    {
     "name": "stdin",
     "output_type": "stream",
     "text": [
      " 11\n"
     ]
    }
   ],
   "source": [
    "#prompt the user to enter a number greater than 10, validate\n",
    "#and assert using assert statement\n",
    "print(\"Please enter a number greater than 10: \")\n",
    "x = int(input())\n",
    "assert x>=10, \"You entered a number less than or equal to 10.\""
   ]
  },
  {
   "cell_type": "code",
   "execution_count": 17,
   "metadata": {},
   "outputs": [
    {
     "name": "stdin",
     "output_type": "stream",
     "text": [
      "enter a list of elements 10, 10, 20, 20, 30, 30, 40\n"
     ]
    },
    {
     "name": "stdout",
     "output_type": "stream",
     "text": [
      "list with no duplicates:  [10, 20, 30, 40]\n"
     ]
    }
   ],
   "source": [
    "#Remove duplicates in a list\n",
    "list1 = eval(input(\"enter a list of elements\"))\n",
    "list2 = []\n",
    "\n",
    "for eachValue in list1:\n",
    "    if eachValue not in list2:\n",
    "        list2.append(eachValue)\n",
    "print(\"list with no duplicates: \", list2)"
   ]
  },
  {
   "cell_type": "code",
   "execution_count": 2,
   "metadata": {},
   "outputs": [
    {
     "name": "stdin",
     "output_type": "stream",
     "text": [
      "Enter a list of duplicates [10, 20, 20, 30]\n"
     ]
    },
    {
     "name": "stdout",
     "output_type": "stream",
     "text": [
      "{10, 20, 30}\n"
     ]
    }
   ],
   "source": [
    "#Another, easier way to do previous exercise: use a list\n",
    "list1 = eval(input(\"Enter a list of duplicates\"))\n",
    "set1 = set(list1)\n",
    "print(set1)"
   ]
  },
  {
   "cell_type": "code",
   "execution_count": 3,
   "metadata": {},
   "outputs": [],
   "source": [
    "#Count the number of vowels in a word\n",
    "word = input(\"Enter a word:\")\n",
    "vowels = {'a', 'e', 'i', 'o', 'u', 'y'}\n",
    "results = {} #make a dictionary to hold letters w. # of times they show up in the word\n",
    "\n",
    "for eachLetter in word: #word is an array that you'll cycle through\n",
    "    if eachLetter in vowels: #if the current letter is in vowels array\n",
    "        results[eachLetter] = results.get(eachLetter, 0)+1\n",
    "        #index into the letter's spot within the dictionary, then put in\n",
    "        #the name of the letter. For that entry, increase the counter by 1. \n",
    "for k,v in results.items():\n",
    "    #print(results.items()) #yields dict_items([('e', 2), ('a', 1)])\n",
    "    print(k, \"is present\", v, \"times.\")"
   ]
  },
  {
   "cell_type": "code",
   "execution_count": 2,
   "metadata": {},
   "outputs": [],
   "source": [
    "#leaving this empty in case we go over this section in the coding circle"
   ]
  },
  {
   "cell_type": "code",
   "execution_count": 6,
   "metadata": {},
   "outputs": [
    {
     "name": "stdin",
     "output_type": "stream",
     "text": [
      "Enter the number of employees: 2\n",
      "enter employee name: John\n",
      "enter employee salary: 100\n",
      "enter employee name: Jane\n",
      "enter employee salary: 100\n",
      "Whose salary would you like to know: Jane\n"
     ]
    },
    {
     "name": "stdout",
     "output_type": "stream",
     "text": [
      "The salary of the employee is:  100\n"
     ]
    },
    {
     "name": "stdin",
     "output_type": "stream",
     "text": [
      "Do you wish to know salary of another employee[Yes|No] Yes\n",
      "Whose salary would you like to know: John\n"
     ]
    },
    {
     "name": "stdout",
     "output_type": "stream",
     "text": [
      "The salary of the employee is:  100\n"
     ]
    },
    {
     "name": "stdin",
     "output_type": "stream",
     "text": [
      "Do you wish to know salary of another employee[Yes|No] No\n"
     ]
    }
   ],
   "source": [
    "n = int(input(\"Enter the number of employees:\"))\n",
    "employees = {}\n",
    "for i in range(n):\n",
    "    name = input(\"enter employee name:\")\n",
    "    salary = input(\"enter employee salary:\")\n",
    "    employees[name] = salary\n",
    "\n",
    "while True:\n",
    "    name = input(\"Whose salary would you like to know:\")\n",
    "    salary =employees.get(name, -1) \n",
    "    #if there is an empoyee, return the salary. If there is not an employee,\n",
    "    #return the value -1\n",
    "    if salary == -1:\n",
    "        print(\"employee does not exist.\")\n",
    "    else:\n",
    "        print(\"The salary of the employee is: \", salary)\n",
    "    choice = input(\"Do you wish to know salary of another employee[Yes|No]\")\n",
    "    #if yes, ask again. if no, break loop and end\n",
    "    if choice == 'No':\n",
    "        break"
   ]
  },
  {
   "cell_type": "code",
   "execution_count": null,
   "metadata": {},
   "outputs": [],
   "source": []
  }
 ],
 "metadata": {
  "kernelspec": {
   "display_name": "Python 3",
   "language": "python",
   "name": "python3"
  },
  "language_info": {
   "codemirror_mode": {
    "name": "ipython",
    "version": 3
   },
   "file_extension": ".py",
   "mimetype": "text/x-python",
   "name": "python",
   "nbconvert_exporter": "python",
   "pygments_lexer": "ipython3",
   "version": "3.8.5"
  }
 },
 "nbformat": 4,
 "nbformat_minor": 4
}
