{
 "cells": [
  {
   "cell_type": "code",
   "execution_count": 20,
   "metadata": {},
   "outputs": [],
   "source": [
    "#INSTRUCTIONS:\n",
    "#Given a student's grades in math, physics, and chemistry,\n",
    "#make an output that will tell the student if they have\n",
    "#passed. \n",
    "\n",
    "#If they have scored more than 35 or more in each subjects,\n",
    "#they have passed. If they have failed any topic, \n",
    "#display : you failed the exams.\n",
    "\n",
    "#if they passed, calculate the average grade \n",
    "#Grades: <=59 : C, <=69 : B, Greater than 69: A"
   ]
  },
  {
   "cell_type": "code",
   "execution_count": 43,
   "metadata": {},
   "outputs": [
    {
     "name": "stdout",
     "output_type": "stream",
     "text": [
      "Please input the student's math exam grade an as integer:70\n",
      "Please input the physics exam:60\n",
      "Please input the chemistry exam:60\n"
     ]
    }
   ],
   "source": [
    "#Have the user input the grades:\n",
    "mathGrade = int(input(\"Please input the student's math exam grade an as integer:\"))\n",
    "physicsGrade = int(input(\"Please input the physics exam:\"))\n",
    "chemGrade = int(input(\"Please input the chemistry exam:\"))\n",
    "\n",
    "gradeList = [mathGrade, physicsGrade, chemGrade]\n",
    "#print(gradeList)\n"
   ]
  },
  {
   "cell_type": "code",
   "execution_count": 44,
   "metadata": {},
   "outputs": [
    {
     "name": "stdout",
     "output_type": "stream",
     "text": [
      "0\n"
     ]
    }
   ],
   "source": [
    "#tell the user if they passed or not\n",
    "fail = 0\n",
    "\n",
    "for eachGrade in gradeList:\n",
    "    if eachGrade <= 35:\n",
    "        print(\"You failed the exam :(\")\n",
    "        fail = 1\n",
    "        break\n",
    "    else:\n",
    "        fail = 0\n",
    "\n",
    "print(fail)"
   ]
  },
  {
   "cell_type": "code",
   "execution_count": 45,
   "metadata": {},
   "outputs": [
    {
     "name": "stdout",
     "output_type": "stream",
     "text": [
      "63.333333333333336\n",
      "Your average is a B.\n"
     ]
    }
   ],
   "source": [
    "#if user passed all exams, calcuate their grade\n",
    "numGrades = len(gradeList)\n",
    "#print(numGrades)\n",
    "if fail == 0: \n",
    "    gradeSum = sum(gradeList)\n",
    "    gradeAvg = gradeSum/numGrades\n",
    "    print(gradeAvg)\n",
    "    if gradeAvg <= 59:\n",
    "        print(\"Your average is a C.\")\n",
    "    elif gradeAvg <= 69:\n",
    "        print(\"Your average is a B.\")\n",
    "    elif gradeAvg > 69:\n",
    "        print(\"Your average is an A :)\")"
   ]
  },
  {
   "cell_type": "code",
   "execution_count": 32,
   "metadata": {},
   "outputs": [
    {
     "name": "stdout",
     "output_type": "stream",
     "text": [
      "300\n"
     ]
    }
   ],
   "source": []
  },
  {
   "cell_type": "code",
   "execution_count": 33,
   "metadata": {},
   "outputs": [
    {
     "name": "stdout",
     "output_type": "stream",
     "text": [
      "3\n"
     ]
    }
   ],
   "source": []
  },
  {
   "cell_type": "code",
   "execution_count": 34,
   "metadata": {},
   "outputs": [
    {
     "data": {
      "text/plain": [
       "100.0"
      ]
     },
     "execution_count": 34,
     "metadata": {},
     "output_type": "execute_result"
    }
   ],
   "source": []
  },
  {
   "cell_type": "code",
   "execution_count": null,
   "metadata": {},
   "outputs": [],
   "source": []
  }
 ],
 "metadata": {
  "kernelspec": {
   "display_name": "Python 3",
   "language": "python",
   "name": "python3"
  },
  "language_info": {
   "codemirror_mode": {
    "name": "ipython",
    "version": 3
   },
   "file_extension": ".py",
   "mimetype": "text/x-python",
   "name": "python",
   "nbconvert_exporter": "python",
   "pygments_lexer": "ipython3",
   "version": "3.8.5"
  }
 },
 "nbformat": 4,
 "nbformat_minor": 4
}
