{
 "cells": [
  {
   "cell_type": "code",
   "execution_count": 65,
   "metadata": {},
   "outputs": [
    {
     "name": "stdout",
     "output_type": "stream",
     "text": [
      "12\n",
      "exp20210208_trial_002\n"
     ]
    }
   ],
   "source": [
    "#find the trial number using find()\n",
    "\n",
    "#make the file name into a string:\n",
    "expName = 'exp20210208_trial_002'\n",
    "trialIndex = expName.find('trial')\n",
    "print(trialIndex)\n",
    "trialName = expName[trialIndex ::]\n",
    "#print(trialName)"
   ]
  },
  {
   "cell_type": "code",
   "execution_count": 66,
   "metadata": {},
   "outputs": [
    {
     "name": "stdout",
     "output_type": "stream",
     "text": [
      "exp20210208_trial_002_notAnalyzed\n"
     ]
    }
   ],
   "source": [
    "#You can change things using replace()\n",
    "expName = 'exp20210208_trial_002_notAnalyzed'\n",
    "print(expName)\n",
    "\n",
    "#analyzedExpName = expName.replace('notAnalyzed', 'analyzed')\n",
    "#print(analyzedExpName)"
   ]
  },
  {
   "cell_type": "code",
   "execution_count": 68,
   "metadata": {},
   "outputs": [
    {
     "name": "stdout",
     "output_type": "stream",
     "text": [
      "experiment20210218_analyzedTimeT1503.mat\n"
     ]
    }
   ],
   "source": [
    "#combine strings together\n",
    "experimentName = 'experiment20210218'\n",
    "analyzedTime = '_analyzedTimeT1503'\n",
    "filetype = '.mat'\n",
    "\n",
    "analyzeFileName = experimentName + analyzedTime + filetype\n",
    "print(experimentanalyzed)\n",
    "#save(analyzeFileName, '.mat')"
   ]
  },
  {
   "cell_type": "code",
   "execution_count": null,
   "metadata": {},
   "outputs": [],
   "source": [
    "#DATA STRUCTURE"
   ]
  },
  {
   "cell_type": "code",
   "execution_count": 34,
   "metadata": {},
   "outputs": [
    {
     "name": "stdout",
     "output_type": "stream",
     "text": [
      "<class 'tuple'>\n"
     ]
    }
   ],
   "source": [
    "myTuple = ('abc', 'def', 50)\n",
    "print(type(myTuple))\n",
    "\n",
    "#myTuple.remove = 'abc';\n",
    "#this will yield an error"
   ]
  },
  {
   "cell_type": "code",
   "execution_count": 35,
   "metadata": {},
   "outputs": [
    {
     "name": "stdout",
     "output_type": "stream",
     "text": [
      "{10, 20, 'XYZ', 30}\n"
     ]
    }
   ],
   "source": [
    "mySet = {10, 20, 30, 'XYZ'}\n",
    "print(mySet)"
   ]
  },
  {
   "cell_type": "code",
   "execution_count": 50,
   "metadata": {},
   "outputs": [
    {
     "name": "stdout",
     "output_type": "stream",
     "text": [
      "{'teissieri', 'simulans', 'melanogaster'}\n"
     ]
    }
   ],
   "source": [
    "#when would you use a set?\n",
    "#this prevents replication e.g. \n",
    "flySpecies = {'melanogaster', 'melanogaster', 'simulans', 'teissieri', 'simulans'}\n",
    "print(flySpecies)\n"
   ]
  },
  {
   "cell_type": "code",
   "execution_count": 69,
   "metadata": {},
   "outputs": [
    {
     "name": "stdout",
     "output_type": "stream",
     "text": [
      "['EE', 25, True]\n"
     ]
    }
   ],
   "source": [
    "#dictionary example\n",
    "flyCare = {'melanogaster':['EE',25, False], 'orena':['EE', 25, True],\n",
    "           'santomea': ['E', 21, False]}\n",
    "print(flyCare['orena'])\n",
    "#fly care instructions (incubator name, temp, add filter paper?, etc.)"
   ]
  },
  {
   "cell_type": "code",
   "execution_count": null,
   "metadata": {},
   "outputs": [],
   "source": []
  }
 ],
 "metadata": {
  "kernelspec": {
   "display_name": "Python 3",
   "language": "python",
   "name": "python3"
  },
  "language_info": {
   "codemirror_mode": {
    "name": "ipython",
    "version": 3
   },
   "file_extension": ".py",
   "mimetype": "text/x-python",
   "name": "python",
   "nbconvert_exporter": "python",
   "pygments_lexer": "ipython3",
   "version": "3.8.5"
  }
 },
 "nbformat": 4,
 "nbformat_minor": 4
}
