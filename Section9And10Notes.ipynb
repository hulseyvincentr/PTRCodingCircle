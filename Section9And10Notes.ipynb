{
 "cells": [
  {
   "cell_type": "code",
   "execution_count": 1,
   "metadata": {},
   "outputs": [],
   "source": [
    "#command lines notes:\n",
    "\n",
    "#things you pass into a function .e.g. file location instead of harcoding into script\n",
    "#or a database name, or a remote IP address\n",
    "\n",
    "#all of these are passed into our system in the list, argv, which is located\n",
    "#within the sys module in python\n",
    "#sys.argv to access arguments, e.g. sys.argv[0]\n",
    "import sys "
   ]
  },
  {
   "cell_type": "code",
   "execution_count": 4,
   "metadata": {},
   "outputs": [],
   "source": [
    "list = sys.argv #argv is a list within the sys module"
   ]
  },
  {
   "cell_type": "code",
   "execution_count": 6,
   "metadata": {},
   "outputs": [
    {
     "name": "stdout",
     "output_type": "stream",
     "text": [
      "/opt/anaconda3/lib/python3.8/site-packages/ipykernel_launcher.py\n",
      "-f\n",
      "/Users/hulseyvincentr/Library/Jupyter/runtime/kernel-5a0fe507-00fd-47f0-84cc-f2f219d9ad5a.json\n",
      "3\n"
     ]
    }
   ],
   "source": [
    "#sys has a list called argv that stores inputs the user passes in\n",
    "for inputarg in list:\n",
    "    print(inputarg)\n",
    "#display all command line arguments: will only show the program name\n",
    "print(len(list)) #there are 3 items in the list but only one shows up?"
   ]
  },
  {
   "cell_type": "code",
   "execution_count": 8,
   "metadata": {},
   "outputs": [],
   "source": [
    "# calculate the product of two numbers from the command line\n",
    "#list = sys.argv\n",
    "#print(\"Product is:\", int(list[1]*list[2]))\n",
    "\n",
    "#go to run -> run configurations, add numbers or directories in there"
   ]
  },
  {
   "cell_type": "code",
   "execution_count": 9,
   "metadata": {},
   "outputs": [],
   "source": [
    "#Section 7 assignment:\n",
    "#make an ATM that responds according to input argument \n",
    "#could do the same with input, I'm going to skip it"
   ]
  },
  {
   "cell_type": "code",
   "execution_count": 1,
   "metadata": {},
   "outputs": [],
   "source": [
    "#FUNCTIONS\n",
    "#we've used function before e.g. input(), print()\n",
    "#Functions are a group of statements that perform a particular task\n",
    "#Pros:\n",
    "#Reusable: You can call the function to use the same actions after antoher\n",
    "#Modularity: You can split up smaller scripts and make subfunctions\n",
    "#Maintenance: You can focus on a particular function when troubleshooting\n"
   ]
  },
  {
   "cell_type": "code",
   "execution_count": 4,
   "metadata": {},
   "outputs": [],
   "source": [
    "#Recursion: Calling a function more than once\n",
    "#e.g. factorials\n",
    "\n",
    "#make sure to define an end condition\n",
    "\n",
    "#use recursion to calculate the factorial of a number\n",
    "def factorial(n):\n",
    "    if n==0:\n",
    "        return 1\n",
    "    else:\n",
    "        return n*factorial(n-1)"
   ]
  },
  {
   "cell_type": "code",
   "execution_count": 5,
   "metadata": {},
   "outputs": [
    {
     "name": "stdout",
     "output_type": "stream",
     "text": [
      "120\n"
     ]
    }
   ],
   "source": [
    "print(factorial(5))"
   ]
  },
  {
   "cell_type": "code",
   "execution_count": 6,
   "metadata": {},
   "outputs": [],
   "source": [
    "#keyword arguments\n",
    "def average(a, b):\n",
    "    return(a+b)/2"
   ]
  },
  {
   "cell_type": "code",
   "execution_count": 8,
   "metadata": {},
   "outputs": [
    {
     "name": "stdout",
     "output_type": "stream",
     "text": [
      "15.0\n",
      "15.0\n",
      "15.0\n"
     ]
    }
   ],
   "source": [
    "#you can call the functions both ways:\n",
    "print(average(10, 20))\n",
    "print(average(a=10, b=20))\n",
    "\n",
    "#you can also chagne the order if you use keywords:\n",
    "print(average(b=20, a=10))"
   ]
  },
  {
   "cell_type": "code",
   "execution_count": 44,
   "metadata": {},
   "outputs": [],
   "source": [
    "#BMI usecase\n",
    "#height = 6.2\n",
    "#weight = 85\n",
    "\n",
    "def calculateBMI(height, weight):\n",
    "    heightInMeters = height*0.4536\n",
    "    bmi = weight/(heightInMeters*heightInMeters)\n",
    "    return bmi"
   ]
  },
  {
   "cell_type": "code",
   "execution_count": 45,
   "metadata": {},
   "outputs": [
    {
     "name": "stdout",
     "output_type": "stream",
     "text": [
      "0.12398462739798567\n"
     ]
    }
   ],
   "source": [
    "print(calculateBMI(56, 80))"
   ]
  },
  {
   "cell_type": "code",
   "execution_count": 59,
   "metadata": {},
   "outputs": [],
   "source": [
    "#optional arguments that can be passed through \n",
    "def myfun(x, *args, **kwargs): #*args can accept any optional parameters you pass in\n",
    "    print(x)#you HAVE to input x, since it's required\n",
    "    print(args)\n",
    "    for each_kw_arg in kwargs:\n",
    "        print(each_kw_arg)\n",
    "    #asterisk indicates not necessary for the function to run"
   ]
  },
  {
   "cell_type": "code",
   "execution_count": 60,
   "metadata": {},
   "outputs": [
    {
     "name": "stdout",
     "output_type": "stream",
     "text": [
      "10\n",
      "()\n"
     ]
    }
   ],
   "source": [
    "myfun(10)"
   ]
  },
  {
   "cell_type": "code",
   "execution_count": 61,
   "metadata": {},
   "outputs": [
    {
     "name": "stdout",
     "output_type": "stream",
     "text": [
      "10\n",
      "(20, 30)\n"
     ]
    }
   ],
   "source": [
    "myfun(10, 20, 30) #still prints 10, doesn't use 20 or 30"
   ]
  },
  {
   "cell_type": "code",
   "execution_count": 62,
   "metadata": {},
   "outputs": [
    {
     "name": "stdout",
     "output_type": "stream",
     "text": [
      "10\n",
      "(20, 'Rose', 'hello')\n"
     ]
    }
   ],
   "source": [
    "myfun(10, 20, 'Rose', 'hello')"
   ]
  },
  {
   "cell_type": "code",
   "execution_count": 63,
   "metadata": {},
   "outputs": [],
   "source": [
    "# * indicates argument, ** indicates keyword arguments"
   ]
  },
  {
   "cell_type": "code",
   "execution_count": 64,
   "metadata": {},
   "outputs": [],
   "source": [
    "def my_fun_2(*args, **kwargs):\n",
    "    print(args)\n",
    "    print(kwargs)"
   ]
  },
  {
   "cell_type": "code",
   "execution_count": null,
   "metadata": {},
   "outputs": [],
   "source": []
  }
 ],
 "metadata": {
  "kernelspec": {
   "display_name": "Python 3",
   "language": "python",
   "name": "python3"
  },
  "language_info": {
   "codemirror_mode": {
    "name": "ipython",
    "version": 3
   },
   "file_extension": ".py",
   "mimetype": "text/x-python",
   "name": "python",
   "nbconvert_exporter": "python",
   "pygments_lexer": "ipython3",
   "version": "3.8.5"
  }
 },
 "nbformat": 4,
 "nbformat_minor": 4
}
