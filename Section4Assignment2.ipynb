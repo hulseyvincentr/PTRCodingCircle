{
 "cells": [
  {
   "cell_type": "code",
   "execution_count": null,
   "metadata": {},
   "outputs": [],
   "source": [
    "#Assignment 2: Data types\n",
    "#define 4 different variables, and print them on to the console:\n",
    "#10\n",
    "#20.54\n",
    "#true\n",
    "#I am the best"
   ]
  },
  {
   "cell_type": "code",
   "execution_count": 6,
   "metadata": {},
   "outputs": [
    {
     "name": "stdout",
     "output_type": "stream",
     "text": [
      "10 \n",
      " 20.54 \n",
      " True \n",
      " I am the best\n"
     ]
    }
   ],
   "source": [
    "#define the data:\n",
    "intenger1 = 10\n",
    "float1 = 20.54\n",
    "boolean1 = True\n",
    "string1 = 'I am the best'\n",
    "\n",
    "#print the data types to the console:\n",
    "print(intenger1, '\\n', float1, '\\n', boolean1, '\\n', string1)\n",
    "\n",
    "#sstrings - a good way to store strings"
   ]
  },
  {
   "cell_type": "code",
   "execution_count": null,
   "metadata": {},
   "outputs": [],
   "source": []
  }
 ],
 "metadata": {
  "kernelspec": {
   "display_name": "Python 3",
   "language": "python",
   "name": "python3"
  },
  "language_info": {
   "codemirror_mode": {
    "name": "ipython",
    "version": 3
   },
   "file_extension": ".py",
   "mimetype": "text/x-python",
   "name": "python",
   "nbconvert_exporter": "python",
   "pygments_lexer": "ipython3",
   "version": "3.8.5"
  }
 },
 "nbformat": 4,
 "nbformat_minor": 4
}
