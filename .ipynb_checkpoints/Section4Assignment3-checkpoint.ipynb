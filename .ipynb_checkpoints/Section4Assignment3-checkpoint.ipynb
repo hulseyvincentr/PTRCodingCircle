{
 "cells": [
  {
   "cell_type": "code",
   "execution_count": 1,
   "metadata": {},
   "outputs": [],
   "source": [
    "#assigment 3: Data Collections\n",
    "#initialize a list of 3 countries\n",
    "#add a country at the end of the list\n",
    "#remove a country from the list with an index\n",
    "#add a country in the middle of the list\n",
    "\n",
    "#Do the same in a set!"
   ]
  },
  {
   "cell_type": "code",
   "execution_count": 10,
   "metadata": {},
   "outputs": [
    {
     "name": "stdout",
     "output_type": "stream",
     "text": [
      "['Angola', 'Peru', 'Djabuti', 'Honduras']\n",
      "['Angola', 'Peru', 'Honduras']\n",
      "['Angola', 'Peru', 'Djabuti', 'Honduras']\n"
     ]
    }
   ],
   "source": [
    "# MAKE A LIST OF COUNTRIES\n",
    "countryList = ['Angola', 'Peru', 'Djabuti']\n",
    "#print(countryList)\n",
    "countryList.append('Honduras')\n",
    "print(countryList)\n",
    "\n",
    "del countryList[2]\n",
    "print(countryList)\n",
    "\n",
    "countryList.insert(2, 'Djabuti')\n",
    "print(countryList)"
   ]
  },
  {
   "cell_type": "code",
   "execution_count": 20,
   "metadata": {},
   "outputs": [
    {
     "name": "stdout",
     "output_type": "stream",
     "text": [
      "{'Honduras', 'Djabuti', 'Peru', 'Angola'}\n",
      "{'Honduras', 'Djabuti', 'Angola'}\n"
     ]
    }
   ],
   "source": [
    "#MAKE A SET OF COUNTRIES\n",
    "countrySet = {'Angola', 'Peru', 'Djabuti'}\n",
    "#countrySet.update('Honduras')\n",
    "#countrySet.update(['Honduras'])\n",
    "countrySet.add('Honduras') #can't add this to a specific spot,\n",
    "#but the set \"gremlins\" decide the order\n",
    "#print(countrySet)\n",
    "\n",
    "countrySet.add('Angola')\n",
    "print(countrySet) #no repeats allowed in sets!\n",
    "\n",
    "countrySet.remove('Peru')\n",
    "print(countrySet)"
   ]
  },
  {
   "cell_type": "code",
   "execution_count": null,
   "metadata": {},
   "outputs": [],
   "source": []
  }
 ],
 "metadata": {
  "kernelspec": {
   "display_name": "Python 3",
   "language": "python",
   "name": "python3"
  },
  "language_info": {
   "codemirror_mode": {
    "name": "ipython",
    "version": 3
   },
   "file_extension": ".py",
   "mimetype": "text/x-python",
   "name": "python",
   "nbconvert_exporter": "python",
   "pygments_lexer": "ipython3",
   "version": "3.8.5"
  }
 },
 "nbformat": 4,
 "nbformat_minor": 4
}
