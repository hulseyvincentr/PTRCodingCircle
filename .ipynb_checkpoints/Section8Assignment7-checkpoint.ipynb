{
 "cells": [
  {
   "cell_type": "code",
   "execution_count": 1,
   "metadata": {},
   "outputs": [],
   "source": [
    "#INSTRUCTIONS:\n",
    "#Figure out if a given number is prime or not.\n",
    "\n",
    "#ask user for input number\n",
    "#primeFlag = true\n",
    "#use while or for loop from 2 to n-1\n",
    "# if n%i == 0 set primeFlag to false\n",
    "#if(primeFlag) (prime number)\n",
    "#else print(not a prime number)"
   ]
  },
  {
   "cell_type": "code",
   "execution_count": 13,
   "metadata": {},
   "outputs": [
    {
     "name": "stdin",
     "output_type": "stream",
     "text": [
      "Please input an integer:  13\n"
     ]
    },
    {
     "name": "stdout",
     "output_type": "stream",
     "text": [
      "13\n"
     ]
    }
   ],
   "source": [
    "#get the user to input a number\n",
    "inputNum = int(input(\"Please input an integer: \"))\n",
    "isPrime = True"
   ]
  },
  {
   "cell_type": "code",
   "execution_count": 16,
   "metadata": {},
   "outputs": [],
   "source": [
    "#prime numbers are only divisible by 1 and themselves. Ignore these.\n",
    "factors = [] #list that contains potential factors of the input number\n",
    "for counter in range(2, inputNum):\n",
    "    inputModCounter = inputNum % counter\n",
    "    if inputModCounter == 0:\n",
    "       factors.append(counter)"
   ]
  },
  {
   "cell_type": "code",
   "execution_count": 17,
   "metadata": {},
   "outputs": [
    {
     "name": "stdout",
     "output_type": "stream",
     "text": [
      "13  is a prime number.\n"
     ]
    }
   ],
   "source": [
    "if factors == []:\n",
    "    print(inputNum, \" is a prime number.\")\n",
    "else:\n",
    "    factors.append(1)\n",
    "    factors.append(inputNum)\n",
    "    print(inputNum, \"is divisible by: \")\n",
    "    print(factors)"
   ]
  },
  {
   "cell_type": "code",
   "execution_count": null,
   "metadata": {},
   "outputs": [],
   "source": []
  },
  {
   "cell_type": "code",
   "execution_count": null,
   "metadata": {},
   "outputs": [],
   "source": []
  }
 ],
 "metadata": {
  "kernelspec": {
   "display_name": "Python 3",
   "language": "python",
   "name": "python3"
  },
  "language_info": {
   "codemirror_mode": {
    "name": "ipython",
    "version": 3
   },
   "file_extension": ".py",
   "mimetype": "text/x-python",
   "name": "python",
   "nbconvert_exporter": "python",
   "pygments_lexer": "ipython3",
   "version": "3.8.5"
  }
 },
 "nbformat": 4,
 "nbformat_minor": 4
}
