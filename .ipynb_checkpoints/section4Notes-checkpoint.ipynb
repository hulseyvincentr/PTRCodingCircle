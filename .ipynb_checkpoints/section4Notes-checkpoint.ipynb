{
 "cells": [
  {
   "cell_type": "code",
   "execution_count": 17,
   "metadata": {},
   "outputs": [
    {
     "name": "stdout",
     "output_type": "stream",
     "text": [
      "I like tea! \n",
      "My favorite kinds of tea are:\n",
      "Jasmine\n",
      "Sencha\n",
      "Chamomile\n",
      "Mint\n",
      "\n",
      "M\n",
      "I like tea! I like tea! I like tea! \n",
      "60\n",
      "12\n"
     ]
    }
   ],
   "source": [
    "#make and print strings:\n",
    "s = \"I like tea! \"\n",
    "print(s)\n",
    "\n",
    "s1 = \"\"\"My favorite kinds of tea are:\n",
    "Jasmine\n",
    "Sencha\n",
    "Chamomile\n",
    "Mint\n",
    "\"\"\"\n",
    "print(s1)\n",
    "#index into a string (recall Python starts at 0, unlike MATLAB)\n",
    "print(s1[0])\n",
    "#display the string several times:\n",
    "print(s*3)\n",
    "#find the length of the strings s, s1\n",
    "print(len(s1))\n",
    "print(len(s))"
   ]
  },
  {
   "cell_type": "code",
   "execution_count": 30,
   "metadata": {},
   "outputs": [
    {
     "name": "stdout",
     "output_type": "stream",
     "text": [
      "I lik\n",
      "I like tea! \n",
      "I like t\n",
      " \n",
      " !aet ekil I\n",
      "a!\n"
     ]
    }
   ],
   "source": [
    "#Slicing up the strings\n",
    "print(s[0: 5]) #print characters 0-5\n",
    "print(s[0:]) #print from 0th character -> the end\n",
    "print(s[:8]) #print up to the 8th character\n",
    "\n",
    "#negative number indexing:\n",
    "print(' ')\n",
    "lengthS = len(s)\n",
    "print(s[::-1]) #it'll print backwards!\n",
    "print(s[-3:-1]) #0 is placed at last character, so it'll find\n",
    "#the 3rd-from last and 1st from last characters of the string\n",
    "\n",
    "#not mentioned in the course, but make sure that you mention\n",
    "#this in the presentation!\n",
    "#these will return an error bc of python's syntax\n",
    "#print(s[-1:-3]) \n",
    "#print(s[5:0])"
   ]
  },
  {
   "cell_type": "code",
   "execution_count": 29,
   "metadata": {},
   "outputs": [
    {
     "name": "stdout",
     "output_type": "stream",
     "text": [
      "Ilk e\n",
      " atei \n"
     ]
    }
   ],
   "source": [
    "#Step slicing:\n",
    "print(s[0:9:2]) #print characters 0-9 in steps of 2\n",
    "print(s[lengthS::-2]) #reverses the order, only takes every\n",
    "#other character\n",
    "print(s[::-1])"
   ]
  },
  {
   "cell_type": "code",
   "execution_count": 34,
   "metadata": {},
   "outputs": [
    {
     "name": "stdout",
     "output_type": "stream",
     "text": [
      "   I like tea!   \n",
      "I like tea!\n",
      "I like tea!   \n",
      "   I like tea!\n"
     ]
    }
   ],
   "source": [
    "#Strip the spaces:\n",
    "s2 = \"   I like tea!   \"\n",
    "print(s2)\n",
    "print(s2.strip()) #remove spaces from beginning and end\n",
    "print(s2.lstrip()) #removes spaces from the left side\n",
    "print(s2.rstrip()) #removes spaces from right side"
   ]
  },
  {
   "cell_type": "code",
   "execution_count": 53,
   "metadata": {},
   "outputs": [
    {
     "name": "stdout",
     "output_type": "stream",
     "text": [
      "7\n",
      "2\n",
      "-1\n",
      "2\n",
      "I like tea! \n",
      "I really like tea! \n",
      "I LIKE TEA! \n",
      "i like tea! \n",
      "I Like Tea! \n"
     ]
    }
   ],
   "source": [
    "#A few more string functions:\n",
    "print(s.find('tea')) #this prints 7, because this string appears at the 7th character\n",
    "\n",
    "print(s.find(\"like\", 0, len(s))) #define range in which to search for string\n",
    "#(search within all of the string, 0-length)\n",
    "\n",
    "print(s.find(\"like\", 0, 2)) #it can't find this within characters 0-2, so it returns -1\n",
    "\n",
    "print(s.count('e')) #count the number of times this caracter shows up in string s\n",
    "\n",
    "print(s)\n",
    "print(s.replace('like', 'really like'))\n",
    "\n",
    "print(s.upper()) #all caps\n",
    "print(s.lower()) #all lower case\n",
    "\n",
    "print(s.title()) #returns with each word beginning in upper case"
   ]
  },
  {
   "cell_type": "code",
   "execution_count": 54,
   "metadata": {},
   "outputs": [],
   "source": [
    "#AFTER FIRST ASSIGNMENT: GETTING INTO LISTS"
   ]
  },
  {
   "cell_type": "code",
   "execution_count": 63,
   "metadata": {},
   "outputs": [
    {
     "name": "stdout",
     "output_type": "stream",
     "text": [
      "[10, 20, 'Rose', -10, 30.5, True]\n",
      "-10\n",
      "[-10, 30.5]\n",
      "[10, 20, 'Rose', -10, 30.5, True, 10, 20, 'Rose', -10, 30.5, True, 10, 20, 'Rose', -10, 30.5, True, 10, 20, 'Rose', -10, 30.5, True]\n",
      "6\n"
     ]
    }
   ],
   "source": [
    "#making and indexing lists\n",
    "list1 = [10, 20, 'Rose', -10, 30.5, True]\n",
    "print(list1)\n",
    "print(list1[3]) #print the 3rd element in the list\n",
    "print(list1[3:5])\n",
    "print(list1*4) #print it 4 times\n",
    "print(len(list1))"
   ]
  },
  {
   "cell_type": "code",
   "execution_count": 77,
   "metadata": {},
   "outputs": [
    {
     "name": "stdout",
     "output_type": "stream",
     "text": [
      "[10, -10, 30.5, True, 'Rose', 'Rose', 40]\n",
      "[10, -10, 30.5, True, 'Rose', 'Rose']\n",
      "[10, -10, 30.5, True, 'Rose', 'Rose', 'Rose']\n",
      "[10, 30.5, True, 'Rose', 'Rose', 'Rose']\n"
     ]
    }
   ],
   "source": [
    "#adding and removing elements from a list\n",
    "list1.append(40) #add an element to the end of the list\n",
    "print(list1)\n",
    "list1.remove(40) #this will remove an element that contains 40 in it\n",
    "print(list1)\n",
    "#list.remove('Rose')\n",
    "list1.append('Rose')\n",
    "print(list1)\n",
    "del(list1[1]) #this will delete the element at index 1\n",
    "print(list1)\n",
    "\n",
    "list1 = [10, 20, 'Rose', -10, 30.5, True] #adding this to the end so I can re-run this section"
   ]
  },
  {
   "cell_type": "code",
   "execution_count": 87,
   "metadata": {},
   "outputs": [
    {
     "name": "stdout",
     "output_type": "stream",
     "text": [
      "[]\n",
      "[10, 20, -10, 30.5]\n",
      "30.5\n",
      "-10\n",
      "[10, 20, -10, 99, 30.5]\n",
      "[-10, 10, 20, 30.5, 99]\n",
      "[99, 30.5, 20, 10, -10]\n"
     ]
    }
   ],
   "source": [
    "#a few more list functions\n",
    "list1.clear() #clear all the elements from a list\n",
    "print(list1)\n",
    "list1 = [10, 20, 'Rose', -10, 30.5, True] #adding this to the end so I can re-run this section\n",
    "list1.remove('Rose') #remove the string and int so we can find max and min values\n",
    "list1.remove(True)\n",
    "print(list1)\n",
    "\n",
    "print(max(list1))\n",
    "print(min(list1))\n",
    "\n",
    "list1.insert(3, 99) #add the value 99 in the index 3 of the list\n",
    "print(list1)\n",
    "\n",
    "list1.sort() #this will order the elements from least to greatest\n",
    "print(list1)\n",
    "list1.sort(reverse=True) #now this will sort from greatest to least\n",
    "print(list1)"
   ]
  },
  {
   "cell_type": "code",
   "execution_count": 100,
   "metadata": {},
   "outputs": [
    {
     "name": "stdout",
     "output_type": "stream",
     "text": [
      "(40, 50, 40, 'XYZ')\n",
      "(40,)\n",
      "<class 'tuple'>\n",
      "<class 'int'>\n",
      "XYZ\n",
      "(40, 50, 40, 'XYZ', 40, 50, 40, 'XYZ', 40, 50, 40, 'XYZ')\n",
      "2\n",
      "3\n",
      "3\n",
      "<class 'list'>\n",
      "<class 'tuple'>\n",
      "(1, 2, 'ABC', 'Rose', False)\n"
     ]
    }
   ],
   "source": [
    "#TUPLES\n",
    "#A list that cannot be modified\n",
    "#we cannot use append, remove, extend, insert, or remove\n",
    "tuple1 = (40, 50, 40, 'XYZ')\n",
    "print(tuple1)\n",
    "\n",
    "tuple2 = (40,) #to define tuple with just 1 element, make sure you have a comma\n",
    "#after the first element! Otherwise, it will think it's an int or a string\n",
    "print(tuple2) \n",
    "print(type(tuple2))\n",
    "notATuple = (40)\n",
    "print(type(notATuple))\n",
    "\n",
    "#you can find the index values, print it out more than once, count, find \n",
    "#the length, find the min, find the max, etc. You just can't modify it.\n",
    "print(tuple1[3])\n",
    "print(tuple1*3)\n",
    "print(tuple1.count(40))\n",
    "print(tuple1.index('XYZ'))\n",
    "print(tuple1.index(\"XYZ\")) #cool, it still knows it's a string!\n",
    "\n",
    "#convert a list to a tuple\n",
    "list1=[1, 2, 'ABC', 'Rose', False]\n",
    "print(type(list1))\n",
    "newTuple = tuple(list1)\n",
    "print(type(newTuple))\n",
    "print(newTuple)"
   ]
  },
  {
   "cell_type": "code",
   "execution_count": 106,
   "metadata": {},
   "outputs": [
    {
     "name": "stdout",
     "output_type": "stream",
     "text": [
      "{10, 20, 30, 'XYZ'}\n",
      "<class 'set'>\n",
      "{99, 10, 20, 88, 30, 'XYZ'}\n",
      "<class 'set'>\n",
      "{99, 10, 20, 88, 'XYZ'}\n"
     ]
    }
   ],
   "source": [
    "#Set type\n",
    "set1 = {10, 20, 30, 'XYZ', 10, 20, 10}\n",
    "print(set1) \n",
    "#you'll notice 10 only shows up ONCE: set does not allow duplicate values!\n",
    "print(type(set1))\n",
    "\n",
    "set1.update([88, 99]) #these will be added anywhere in the set\n",
    "print(set1)\n",
    "print(type(set1))\n",
    "# this will be removed wherever it occurs in the set\n",
    "set1.remove(30)\n",
    "print(set1)\n",
    "\n",
    "#You cannot perform slicing, indexing, or repetition within the set!\n",
    "#print(set1[3]) #this will return an error\n",
    "#print(set1[0:5]) #this will return an error\n",
    "#print(set1*3) #this will return an error\n",
    "\n",
    "frozenSet1 = frozenset(set1)\n",
    "#f.update([20]) #add another 20 to it? Can't do that bc it's forzen set\n",
    "#you also cannot remove elements. You CAN navigate through the frozen set\n",
    "#and find the element values"
   ]
  },
  {
   "cell_type": "code",
   "execution_count": 112,
   "metadata": {},
   "outputs": [
    {
     "name": "stdout",
     "output_type": "stream",
     "text": [
      "range1\n",
      "0\n",
      "1\n",
      "2\n",
      "3\n",
      "4\n",
      "range2:\n",
      "1\n",
      "2\n",
      "3\n",
      "4\n",
      "5\n",
      "range3\n",
      "1\n",
      "6\n",
      "11\n"
     ]
    }
   ],
   "source": [
    "#range type\n",
    "print('range1')\n",
    "range1 = range(5)\n",
    "\n",
    "for i in range1:\n",
    "    print(i)\n",
    "#range always starts from 0\n",
    "print('range2:')\n",
    "\n",
    "range2 = range(1, 6)\n",
    "for i in range2:\n",
    "    print(i)\n",
    "    \n",
    "print('range3')\n",
    "range3 = range(1, 15, 5)\n",
    "for i in range3:\n",
    "    print(i)"
   ]
  },
  {
   "cell_type": "code",
   "execution_count": 118,
   "metadata": {},
   "outputs": [
    {
     "name": "stdout",
     "output_type": "stream",
     "text": [
      "<class 'list'>\n",
      "<class 'bytes'>\n",
      "<class 'bytearray'>\n"
     ]
    }
   ],
   "source": [
    "#bytes and bytearray\n",
    "list3 = [20, 30, 40, 234]\n",
    "print(type(list3))\n",
    "\n",
    "#convert to bytes type:\n",
    "bytesList = bytes(list3)\n",
    "print(type(bytesList))\n",
    "#you cannot add or remove elements from bytes\n",
    "#bytesList[3] = 22\n",
    "\n",
    "byteArray1 = bytearray(list3)\n",
    "print(type(byteArray1))\n",
    "byteArray1[2] = 33 # no error! We can modify bytearrays\n",
    "\n",
    "#no slicing or repetition are allowed for either of these data types"
   ]
  },
  {
   "cell_type": "code",
   "execution_count": null,
   "metadata": {},
   "outputs": [],
   "source": []
  }
 ],
 "metadata": {
  "kernelspec": {
   "display_name": "Python 3",
   "language": "python",
   "name": "python3"
  },
  "language_info": {
   "codemirror_mode": {
    "name": "ipython",
    "version": 3
   },
   "file_extension": ".py",
   "mimetype": "text/x-python",
   "name": "python",
   "nbconvert_exporter": "python",
   "pygments_lexer": "ipython3",
   "version": "3.8.5"
  }
 },
 "nbformat": 4,
 "nbformat_minor": 4
}
