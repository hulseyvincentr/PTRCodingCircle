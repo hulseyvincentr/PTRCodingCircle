{
 "cells": [
  {
   "cell_type": "code",
   "execution_count": 2,
   "metadata": {},
   "outputs": [],
   "source": [
    "#What I want this function to do:\n",
    "#This function will randomly choose the name of one person\n",
    "#in the PTR coding circle, and announce that they will be\n",
    "#presenting next session.\n",
    "\n",
    "#inputs:\n",
    "#-a list of strings, each string will be one person's name\n",
    "\n",
    "#outputs:\n",
    "#-one string from the array\n",
    "#-announcement: 'personX will present next!'\n",
    "\n",
    "#packages to use: random, already in Python!"
   ]
  },
  {
   "cell_type": "code",
   "execution_count": 4,
   "metadata": {},
   "outputs": [],
   "source": [
    "import random"
   ]
  },
  {
   "cell_type": "code",
   "execution_count": 58,
   "metadata": {},
   "outputs": [
    {
     "name": "stdout",
     "output_type": "stream",
     "text": [
      "Mark  will present next session!\n"
     ]
    }
   ],
   "source": [
    "PTRpeople = ['Rose', 'Claire', 'Dan', 'Becca', 'Grace', 'Mark', 'Gudrun', 'Kari', 'Ramya']\n",
    "\n",
    "numPTR = len(PTRpeople)-1\n",
    "#print(numPTR)\n",
    "randomNumber = random.randint(0, numPTR)\n",
    "#print(randomNumber)\n",
    "nextPresenter = PTRpeople[randomNumber]\n",
    "\n",
    "print(nextPresenter, ' will present next session!')\n",
    "\n",
    "#t = range(0, 10)\n",
    "#for i in t:\n",
    "#    print(i)"
   ]
  },
  {
   "cell_type": "code",
   "execution_count": 35,
   "metadata": {},
   "outputs": [
    {
     "name": "stdout",
     "output_type": "stream",
     "text": [
      "Help on method shuffle in module random:\n",
      "\n",
      "shuffle(x, random=None) method of random.Random instance\n",
      "    Shuffle list x in place, and return None.\n",
      "    \n",
      "    Optional argument random is a 0-argument function returning a\n",
      "    random float in [0.0, 1.0); if it is the default None, the\n",
      "    standard random.random will be used.\n",
      "\n"
     ]
    }
   ],
   "source": [
    "#Ways to find out about packages and functions in packages\n",
    "dir(random) #tell me what functions exist in the package\n",
    "help(random.shuffle) #give me the documentation for the function randint in the package"
   ]
  },
  {
   "cell_type": "code",
   "execution_count": 57,
   "metadata": {},
   "outputs": [
    {
     "name": "stdout",
     "output_type": "stream",
     "text": [
      "['Mark', 'Ramya', 'Claire', 'Grace', 'Kari', 'Dan', 'Gudrun']\n"
     ]
    }
   ],
   "source": [
    "PTRpeople = ['Rose', 'Claire', 'Dan', 'Becca', 'Grace', 'Mark', 'Gudrun', 'Kari', 'Ramya']\n",
    "PTRpeople.remove('Rose')\n",
    "PTRpeople.remove('Becca')\n",
    "\n",
    "#print(PTRpeople)\n",
    "random.shuffle(PTRpeople)\n",
    "print(PTRpeople)"
   ]
  },
  {
   "cell_type": "code",
   "execution_count": null,
   "metadata": {},
   "outputs": [],
   "source": []
  },
  {
   "cell_type": "code",
   "execution_count": null,
   "metadata": {},
   "outputs": [],
   "source": []
  }
 ],
 "metadata": {
  "kernelspec": {
   "display_name": "Python 3",
   "language": "python",
   "name": "python3"
  },
  "language_info": {
   "codemirror_mode": {
    "name": "ipython",
    "version": 3
   },
   "file_extension": ".py",
   "mimetype": "text/x-python",
   "name": "python",
   "nbconvert_exporter": "python",
   "pygments_lexer": "ipython3",
   "version": "3.8.5"
  }
 },
 "nbformat": 4,
 "nbformat_minor": 4
}
