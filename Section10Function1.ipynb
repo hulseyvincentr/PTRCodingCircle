{
 "cells": [
  {
   "cell_type": "code",
   "execution_count": 5,
   "metadata": {},
   "outputs": [],
   "source": [
    "#create code that will find the average of 2 inputs\n",
    "def findAverage(a, b):\n",
    "    numAvg = (a+b)/2\n",
    "    #print(\"average of two numbers is:\", numAvg) #print average\n",
    "    return numAvg #return the average"
   ]
  },
  {
   "cell_type": "code",
   "execution_count": 6,
   "metadata": {},
   "outputs": [
    {
     "data": {
      "text/plain": [
       "15.0"
      ]
     },
     "execution_count": 6,
     "metadata": {},
     "output_type": "execute_result"
    }
   ],
   "source": [
    "findAverage(10, 20)"
   ]
  },
  {
   "cell_type": "code",
   "execution_count": 7,
   "metadata": {},
   "outputs": [],
   "source": [
    "#make a calculator function that finds the sum, difference, product, quotient\n",
    "def calcFunction(a, b):\n",
    "    numSum = a+b\n",
    "    difference = a-b\n",
    "    product = a*b\n",
    "    quotient = a/b\n",
    "    return numSum, difference, product, quotient"
   ]
  },
  {
   "cell_type": "code",
   "execution_count": 9,
   "metadata": {},
   "outputs": [
    {
     "name": "stdout",
     "output_type": "stream",
     "text": [
      "(15, 5, 50, 2.0)\n"
     ]
    }
   ],
   "source": [
    "calcResult = calcFunction(10, 5)\n",
    "print(calcResult)"
   ]
  },
  {
   "cell_type": "code",
   "execution_count": 39,
   "metadata": {},
   "outputs": [],
   "source": [
    "#local and global variables\n",
    "x = 123 #this is a global variable\n",
    "def display():\n",
    "    x = 678 #this is a local variable: only accessible within the function\n",
    "    print(x)\n",
    "    #you can print globals using the globals() function \n",
    "    print(globals()['x'])\n",
    "    #the () call the function, and [] indexes into it"
   ]
  },
  {
   "cell_type": "code",
   "execution_count": 40,
   "metadata": {},
   "outputs": [
    {
     "name": "stdout",
     "output_type": "stream",
     "text": [
      "678\n",
      "123\n"
     ]
    }
   ],
   "source": [
    "#print(x)\n",
    "display()\n",
    "#this will print the local variable, then global variable\n",
    "#my own note: this is why it's a good idea to be careful with naming! You\n",
    "#need to make sure you know which values will be kept or discarded in the\n",
    "#function"
   ]
  },
  {
   "cell_type": "code",
   "execution_count": 47,
   "metadata": {},
   "outputs": [],
   "source": [
    "#You can assign a variable name to the function\n",
    "out = display #don't call the function w. parenthases here"
   ]
  },
  {
   "cell_type": "code",
   "execution_count": 48,
   "metadata": {},
   "outputs": [
    {
     "name": "stdout",
     "output_type": "stream",
     "text": [
      "678\n",
      "123\n"
     ]
    }
   ],
   "source": [
    "out()"
   ]
  },
  {
   "cell_type": "code",
   "execution_count": 51,
   "metadata": {},
   "outputs": [],
   "source": [
    "#writing a function inside of a function\n",
    "#this lets you break down the logic within your code\n",
    "def writeToMe(name):\n",
    "    def message():\n",
    "        return \"Hello \"\n",
    "    result = message()+name\n",
    "    return result\n"
   ]
  },
  {
   "cell_type": "code",
   "execution_count": 52,
   "metadata": {},
   "outputs": [
    {
     "name": "stdout",
     "output_type": "stream",
     "text": [
      "Hello Rose\n"
     ]
    }
   ],
   "source": [
    "print(writeToMe(\"Rose\"))"
   ]
  },
  {
   "cell_type": "code",
   "execution_count": 53,
   "metadata": {},
   "outputs": [],
   "source": [
    "#you cannot write the subfunction outside of the main function\n",
    "#print(message()) #returns an error"
   ]
  },
  {
   "cell_type": "code",
   "execution_count": 54,
   "metadata": {},
   "outputs": [
    {
     "data": {
      "text/plain": [
       "'hello Rose'"
      ]
     },
     "execution_count": 54,
     "metadata": {},
     "output_type": "execute_result"
    }
   ],
   "source": [
    "#Function as a parameter to another funtion\n",
    "def display2(fun):\n",
    "    return \"hello \" + fun\n",
    "def name():\n",
    "    return \"Rose\"\n",
    "\n",
    "display2(name())"
   ]
  },
  {
   "cell_type": "code",
   "execution_count": 58,
   "metadata": {},
   "outputs": [
    {
     "name": "stdout",
     "output_type": "stream",
     "text": [
      "hello \n"
     ]
    }
   ],
   "source": [
    "#returning functions\n",
    "def display3():\n",
    "    def message2():\n",
    "        return \"hello \"\n",
    "    return message2\n",
    "function3 = display3()\n",
    "print(function3())"
   ]
  },
  {
   "cell_type": "code",
   "execution_count": null,
   "metadata": {},
   "outputs": [],
   "source": []
  }
 ],
 "metadata": {
  "kernelspec": {
   "display_name": "Python 3",
   "language": "python",
   "name": "python3"
  },
  "language_info": {
   "codemirror_mode": {
    "name": "ipython",
    "version": 3
   },
   "file_extension": ".py",
   "mimetype": "text/x-python",
   "name": "python",
   "nbconvert_exporter": "python",
   "pygments_lexer": "ipython3",
   "version": "3.8.5"
  }
 },
 "nbformat": 4,
 "nbformat_minor": 4
}
