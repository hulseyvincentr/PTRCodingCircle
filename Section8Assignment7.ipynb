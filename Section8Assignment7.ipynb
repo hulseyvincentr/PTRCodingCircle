{
 "cells": [
  {
   "cell_type": "code",
   "execution_count": 1,
   "metadata": {},
   "outputs": [],
   "source": [
    "#INSTRUCTIONS:\n",
    "#Figure out if a given number is prime or not.\n",
    "\n",
    "#ask user for input number\n",
    "#primeFlag = true\n",
    "#use while or for loop from 2 to n-1\n",
    "# if n%i == 0 set primeFlag to false\n",
    "#if(primeFlag) (prime number)\n",
    "#else print(not a prime number)"
   ]
  },
  {
   "cell_type": "code",
   "execution_count": 1,
   "metadata": {},
   "outputs": [
    {
     "name": "stdout",
     "output_type": "stream",
     "text": [
      "Please input a number:4\n"
     ]
    }
   ],
   "source": [
    "#ask for the input, make a primeflag\n",
    "myNumber = int(input(\"Please input a number:\"))\n",
    "primeFlag = False\n",
    "factorList = []"
   ]
  },
  {
   "cell_type": "code",
   "execution_count": 5,
   "metadata": {},
   "outputs": [
    {
     "name": "stdout",
     "output_type": "stream",
     "text": [
      "[2, 2]\n"
     ]
    }
   ],
   "source": [
    "#make a list of numbers up to that number, determine if its divisible by those numbers\n",
    "for counter in range(2, myNumber):\n",
    "    modNumber = myNumber%counter\n",
    "    if modNumber == 0:\n",
    "        primeFlag == False\n",
    "        factorList.append(counter)\n",
    "#print if it's prime or not\n",
    "print(factorList)"
   ]
  },
  {
   "cell_type": "code",
   "execution_count": 9,
   "metadata": {},
   "outputs": [
    {
     "name": "stdout",
     "output_type": "stream",
     "text": [
      "your number is divisible by the following numbers:\n",
      "[2, 2]\n"
     ]
    }
   ],
   "source": [
    "if factorList == []:\n",
    "    primeFlag = True\n",
    "    print(\"your number is prime.\")\n",
    "else:\n",
    "    print(\"your number is divisible by the following numbers:\")\n",
    "    print(factorList)"
   ]
  },
  {
   "cell_type": "code",
   "execution_count": null,
   "metadata": {},
   "outputs": [],
   "source": []
  }
 ],
 "metadata": {
  "kernelspec": {
   "display_name": "Python 3",
   "language": "python",
   "name": "python3"
  },
  "language_info": {
   "codemirror_mode": {
    "name": "ipython",
    "version": 3
   },
   "file_extension": ".py",
   "mimetype": "text/x-python",
   "name": "python",
   "nbconvert_exporter": "python",
   "pygments_lexer": "ipython3",
   "version": "3.8.5"
  }
 },
 "nbformat": 4,
 "nbformat_minor": 4
}
