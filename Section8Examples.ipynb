{
 "cells": [
  {
   "cell_type": "code",
   "execution_count": 29,
   "metadata": {},
   "outputs": [
    {
     "name": "stdin",
     "output_type": "stream",
     "text": [
      "What is the temperature? (F) 40\n"
     ]
    },
    {
     "name": "stdout",
     "output_type": "stream",
     "text": [
      "It is mild out.\n"
     ]
    }
   ],
   "source": [
    "temperature = input(\"What is the temperature? (F)\")\n",
    "temperature = float(temperature)\n",
    "#print(temperature)\n",
    "\n",
    "if temperature <= 32:\n",
    "    print(\"It is freezing!\")\n",
    "elif 32 < temperature < 50:   \n",
    "    print(\"It is mild out.\")\n",
    "else:\n",
    "    print(\"It is not freezing :)\")"
   ]
  },
  {
   "cell_type": "code",
   "execution_count": 30,
   "metadata": {},
   "outputs": [
    {
     "name": "stdout",
     "output_type": "stream",
     "text": [
      "0.5\n",
      "1.0\n",
      "1.5\n",
      "2.0\n",
      "2.5\n",
      "3.0\n",
      "3.5\n",
      "4.0\n",
      "You have added enough flour!\n"
     ]
    }
   ],
   "source": [
    "#While loop example\n",
    "volumeOfCup = 0.5 #cups\n",
    "recipeCallsFor = 4 \n",
    "currentAmountOfFlour = 0\n",
    "\n",
    "while currentAmountOfFlour < recipeCallsFor:\n",
    "    currentAmountOfFlour = currentAmountOfFlour+volumeOfCup\n",
    "    print(currentAmountOfFlour)\n",
    "    \n",
    "print(\"You have added enough flour!\")"
   ]
  },
  {
   "cell_type": "code",
   "execution_count": null,
   "metadata": {},
   "outputs": [],
   "source": [
    "#For loop example:\n",
    "\n",
    "#Count the number of vowels in a word\n",
    "word = input(\"Enter a word:\")\n",
    "vowels = {'a', 'e', 'i', 'o', 'u', 'y'}\n",
    "results = {} #make a dictionary to hold letters w. # of times they show up in the word\n",
    "\n",
    "for letterCounter in word: #word is an array that you'll cycle through\n",
    "    if letterCounter in vowels: #if the current letter is in vowels array\n",
    "        results[letterCounter] = results.get(letterCounter, 0)+1\n",
    "        #index into the letter's spot within the dictionary, then put in\n",
    "        #the name of the letter. For that entry, increase the counter by 1. \n",
    "for k,v in results.items():\n",
    "    #print(results.items()) #yields dict_items([('e', 2), ('a', 1)])\n",
    "    print(k, \"is present\", v, \"times.\")"
   ]
  }
 ],
 "metadata": {
  "kernelspec": {
   "display_name": "Python 3",
   "language": "python",
   "name": "python3"
  },
  "language_info": {
   "codemirror_mode": {
    "name": "ipython",
    "version": 3
   },
   "file_extension": ".py",
   "mimetype": "text/x-python",
   "name": "python",
   "nbconvert_exporter": "python",
   "pygments_lexer": "ipython3",
   "version": "3.8.5"
  }
 },
 "nbformat": 4,
 "nbformat_minor": 4
}
